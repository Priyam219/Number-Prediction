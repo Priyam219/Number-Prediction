{
 "cells": [
  {
   "cell_type": "markdown",
   "id": "5f9d0916",
   "metadata": {},
   "source": [
    "IMPORTING THE NUMBERS AND LABELS."
   ]
  },
  {
   "cell_type": "code",
   "execution_count": 3,
   "id": "61f21e2b",
   "metadata": {},
   "outputs": [],
   "source": [
    "import numpy as np\n",
    "import pandas as pd\n",
    "from matplotlib import pyplot as plt\n",
    "import seaborn as sns\n",
    "%matplotlib inline"
   ]
  },
  {
   "cell_type": "code",
   "execution_count": 43,
   "id": "b19935df",
   "metadata": {},
   "outputs": [],
   "source": [
    "from sklearn.datasets import load_digits\n",
    "from sklearn import metrics # imported for calculating the accuracy using confusion matrics"
   ]
  },
  {
   "cell_type": "code",
   "execution_count": 5,
   "id": "4dcc3e7b",
   "metadata": {},
   "outputs": [],
   "source": [
    "digits = load_digits()"
   ]
  },
  {
   "cell_type": "code",
   "execution_count": 7,
   "id": "ea76c451",
   "metadata": {},
   "outputs": [
    {
     "name": "stdout",
     "output_type": "stream",
     "text": [
      "(1797, 64)\n",
      "(1797,)\n"
     ]
    }
   ],
   "source": [
    "print(digits.data.shape) # total 1797 iamge samples and the array has 64 dimensionality in sklearn library\n",
    "print(digits.target.shape)"
   ]
  },
  {
   "cell_type": "markdown",
   "id": "99f5b829",
   "metadata": {},
   "source": [
    "SHOWING THE SAMPLE IMAGES."
   ]
  },
  {
   "cell_type": "code",
   "execution_count": 17,
   "id": "0908ef96",
   "metadata": {},
   "outputs": [
    {
     "data": {
      "image/png": "[encoded data removed]",
      "text/plain": [
       "<Figure size 720x360 with 3 Axes>"
      ]
     },
     "metadata": {
      "needs_background": "light"
     },
     "output_type": "display_data"
    }
   ],
   "source": [
    "plt.figure(figsize=(10,5))\n",
    "for index, (image,label) in enumerate(zip(digits.data[0:3],digits.target[0:3])):\n",
    "    plt.subplot(1,3,index + 1)\n",
    "    plt.imshow(np.reshape(image,(8,8)))\n",
    "    plt.gray()\n",
    "    plt.title(\"Training : %i\\n\" %label, fontsize = 15)"
   ]
  },
  {
   "cell_type": "code",
   "execution_count": 15,
   "id": "aec31c5a",
   "metadata": {},
   "outputs": [],
   "source": [
    "# from sklearn.datasets import load_digits\n",
    "\n",
    "# dgts = load_digits()\n",
    "# print(dgts.data.shape)\n",
    "# import matplotlib.pyplot as plt\n",
    "# plt.gray()\n",
    "# plt.matshow(dgts.images[1])\n",
    "# plt.show()\n",
    "\n",
    "# this is how the label images are retrived and visualized from sklearn\n",
    "# data = it is a data matrix\n",
    "# target = the target regarding classification"
   ]
  },
  {
   "cell_type": "markdown",
   "id": "22a48fe7",
   "metadata": {},
   "source": [
    "# Train Test Split"
   ]
  },
  {
   "cell_type": "code",
   "execution_count": 19,
   "id": "d91a7902",
   "metadata": {},
   "outputs": [],
   "source": [
    "from sklearn.model_selection import train_test_split\n",
    "x_train,x_test,y_train,y_test = train_test_split(digits.data,digits.target, test_size=0.3)"
   ]
  },
  {
   "cell_type": "code",
   "execution_count": 22,
   "id": "6f9c01b5",
   "metadata": {},
   "outputs": [
    {
     "data": {
      "image/png": "[encoded data removed]",
      "text/plain": [
       "<Figure size 288x288 with 1 Axes>"
      ]
     },
     "metadata": {
      "needs_background": "light"
     },
     "output_type": "display_data"
    }
   ],
   "source": [
    "plt.matshow(digits.images[100])\n",
    "plt.show()"
   ]
  },
  {
   "cell_type": "code",
   "execution_count": 27,
   "id": "e7135e0e",
   "metadata": {},
   "outputs": [
    {
     "data": {
      "text/plain": [
       "((1257, 64), (540, 64))"
      ]
     },
     "execution_count": 27,
     "metadata": {},
     "output_type": "execute_result"
    }
   ],
   "source": [
    "x_train.shape,x_test.shape"
   ]
  },
  {
   "cell_type": "markdown",
   "id": "5d0a6ca6",
   "metadata": {},
   "source": [
    "Here we have input values is x_train which we are gonna train and also we have y_train which consists the label information about the sample image. i.e. it contains the information regarding the number whether it is 1 or 2 or 3 etc."
   ]
  },
  {
   "cell_type": "code",
   "execution_count": 29,
   "id": "1be65746",
   "metadata": {},
   "outputs": [
    {
     "data": {
      "text/plain": [
       "array([[ 0.,  0.,  6., ...,  3.,  0.,  0.],\n",
       "       [ 0.,  0.,  1., ..., 16., 13.,  1.],\n",
       "       [ 0.,  0., 12., ..., 10.,  0.,  0.],\n",
       "       ...,\n",
       "       [ 0.,  0.,  0., ...,  9.,  0.,  0.],\n",
       "       [ 0.,  0.,  8., ...,  2.,  0.,  0.],\n",
       "       [ 0.,  0.,  7., ...,  2.,  0.,  0.]])"
      ]
     },
     "execution_count": 29,
     "metadata": {},
     "output_type": "execute_result"
    }
   ],
   "source": [
    "x_train # since it is in pixelated form so we have 64 dimensionality."
   ]
  },
  {
   "cell_type": "code",
   "execution_count": 30,
   "id": "58acffcd",
   "metadata": {},
   "outputs": [
    {
     "data": {
      "text/plain": [
       "array([1, 6, 5, ..., 1, 5, 8])"
      ]
     },
     "execution_count": 30,
     "metadata": {},
     "output_type": "execute_result"
    }
   ],
   "source": [
    "y_train # exact labels."
   ]
  },
  {
   "cell_type": "markdown",
   "id": "37c4e53e",
   "metadata": {},
   "source": [
    "# Fitting The Data Into The Model"
   ]
  },
  {
   "cell_type": "code",
   "execution_count": 32,
   "id": "da338fcd",
   "metadata": {},
   "outputs": [],
   "source": [
    "from sklearn.linear_model import LogisticRegression\n",
    "lreg = LogisticRegression()"
   ]
  },
  {
   "cell_type": "code",
   "execution_count": 33,
   "id": "e60dbf90",
   "metadata": {},
   "outputs": [
    {
     "name": "stderr",
     "output_type": "stream",
     "text": [
      "C:\\Users\\PRIYAM\\anaconda3\\lib\\site-packages\\sklearn\\linear_model\\_logistic.py:814: ConvergenceWarning: lbfgs failed to converge (status=1):\n",
      "STOP: TOTAL NO. of ITERATIONS REACHED LIMIT.\n",
      "\n",
      "Increase the number of iterations (max_iter) or scale the data as shown in:\n",
      "    https://scikit-learn.org/stable/modules/preprocessing.html\n",
      "Please also refer to the documentation for alternative solver options:\n",
      "    https://scikit-learn.org/stable/modules/linear_model.html#logistic-regression\n",
      "  n_iter_i = _check_optimize_result(\n"
     ]
    },
    {
     "data": {
      "text/plain": [
       "LogisticRegression()"
      ]
     },
     "execution_count": 33,
     "metadata": {},
     "output_type": "execute_result"
    }
   ],
   "source": [
    "lreg.fit(x_train,y_train)"
   ]
  },
  {
   "cell_type": "markdown",
   "id": "9bde6884",
   "metadata": {},
   "source": [
    "predicting for one image :"
   ]
  },
  {
   "cell_type": "code",
   "execution_count": 36,
   "id": "bbff9a0e",
   "metadata": {},
   "outputs": [
    {
     "name": "stdout",
     "output_type": "stream",
     "text": [
      "[1]\n"
     ]
    }
   ],
   "source": [
    "print(lreg.predict(x_test[1].reshape(1, -1)))"
   ]
  },
  {
   "cell_type": "markdown",
   "id": "bdb0f011",
   "metadata": {},
   "source": [
    "It predicted the number image as 1."
   ]
  },
  {
   "cell_type": "markdown",
   "id": "1b5f204d",
   "metadata": {},
   "source": [
    "Again for some more images :"
   ]
  },
  {
   "cell_type": "code",
   "execution_count": 39,
   "id": "c352259e",
   "metadata": {},
   "outputs": [
    {
     "name": "stdout",
     "output_type": "stream",
     "text": [
      "[4 1 3 6 5 4 4 3 6 7 9 7 4 7 6 5 3 6 8 1]\n"
     ]
    }
   ],
   "source": [
    "print(lreg.predict(x_test[0:20]))"
   ]
  },
  {
   "cell_type": "markdown",
   "id": "e4da8edd",
   "metadata": {},
   "source": [
    "# Predicting the whole dataset\n"
   ]
  },
  {
   "cell_type": "code",
   "execution_count": 40,
   "id": "fd1b33ef",
   "metadata": {},
   "outputs": [],
   "source": [
    "prediction = lreg.predict(x_test)"
   ]
  },
  {
   "cell_type": "markdown",
   "id": "495a4ee2",
   "metadata": {},
   "source": [
    "# Accuracy prediction using Confusion Metrix  "
   ]
  },
  {
   "cell_type": "code",
   "execution_count": 55,
   "id": "39da76b3",
   "metadata": {},
   "outputs": [
    {
     "name": "stdout",
     "output_type": "stream",
     "text": [
      "[[58  0  1  0  0  0  0  0  0  0]\n",
      " [ 0 51  0  0  0  0  0  0  2  0]\n",
      " [ 0  1 52  0  0  0  0  0  0  0]\n",
      " [ 0  0  0 52  0  1  0  0  0  0]\n",
      " [ 0  0  0  0 53  0  0  1  1  0]\n",
      " [ 1  0  0  0  0 47  1  0  0  0]\n",
      " [ 0  0  0  0  1  2 56  0  0  0]\n",
      " [ 0  0  0  0  0  0  0 58  1  0]\n",
      " [ 0  2  1  0  0  0  0  0 46  3]\n",
      " [ 0  0  0  1  0  1  0  0  2 44]]\n"
     ]
    }
   ],
   "source": [
    "cm = metrics.confusion_matrix(y_test,prediction)\n",
    "print(cm)"
   ]
  },
  {
   "cell_type": "markdown",
   "id": "2af6fc23",
   "metadata": {},
   "source": [
    "This is how confusion Matrix looks for our model."
   ]
  },
  {
   "cell_type": "code",
   "execution_count": 57,
   "id": "8abc70a1",
   "metadata": {},
   "outputs": [
    {
     "data": {
      "text/plain": [
       "<AxesSubplot:>"
      ]
     },
     "execution_count": 57,
     "metadata": {},
     "output_type": "execute_result"
    },
    {
     "data": {
      "image/png": "[encoded data removed]",
      "text/plain": [
       "<Figure size 720x720 with 2 Axes>"
      ]
     },
     "metadata": {
      "needs_background": "light"
     },
     "output_type": "display_data"
    }
   ],
   "source": [
    "plt.figure(figsize=(10,10))\n",
    "sns.heatmap(cm,annot = True)"
   ]
  },
  {
   "cell_type": "code",
   "execution_count": 58,
   "id": "33e84ffd",
   "metadata": {},
   "outputs": [
    {
     "name": "stdout",
     "output_type": "stream",
     "text": [
      "              precision    recall  f1-score   support\n",
      "\n",
      "           0       0.98      0.98      0.98        59\n",
      "           1       0.94      0.96      0.95        53\n",
      "           2       0.96      0.98      0.97        53\n",
      "           3       0.98      0.98      0.98        53\n",
      "           4       0.98      0.96      0.97        55\n",
      "           5       0.92      0.96      0.94        49\n",
      "           6       0.98      0.95      0.97        59\n",
      "           7       0.98      0.98      0.98        59\n",
      "           8       0.88      0.88      0.88        52\n",
      "           9       0.94      0.92      0.93        48\n",
      "\n",
      "    accuracy                           0.96       540\n",
      "   macro avg       0.96      0.96      0.96       540\n",
      "weighted avg       0.96      0.96      0.96       540\n",
      "\n"
     ]
    }
   ],
   "source": [
    "from sklearn.metrics import classification_report\n",
    "print(classification_report(y_test, prediction))"
   ]
  },
  {
   "cell_type": "markdown",
   "id": "eb0a4bc1",
   "metadata": {},
   "source": [
    "From here we can say our model is 96% accurate."
   ]
  },
  {
   "cell_type": "code",
   "execution_count": 64,
   "id": "b0b0c668",
   "metadata": {},
   "outputs": [
    {
     "name": "stdout",
     "output_type": "stream",
     "text": [
      "[6 3 4 0 5 3 6 0 1 8]\n"
     ]
    }
   ],
   "source": [
    "print(y_test[20:30])"
   ]
  },
  {
   "cell_type": "code",
   "execution_count": 65,
   "id": "1add5d54",
   "metadata": {},
   "outputs": [
    {
     "name": "stdout",
     "output_type": "stream",
     "text": [
      "[4 3 4 0 0 5 6 0 1 8]\n"
     ]
    }
   ],
   "source": [
    "print(prediction[20:30])"
   ]
  },
  {
   "cell_type": "code",
   "execution_count": null,
   "id": "0ff491de",
   "metadata": {},
   "outputs": [],
   "source": []
  }
 ],
 "metadata": {
  "kernelspec": {
   "display_name": "Python 3 (ipykernel)",
   "language": "python",
   "name": "python3"
  },
  "language_info": {
   "codemirror_mode": {
    "name": "ipython",
    "version": 3
   },
   "file_extension": ".py",
   "mimetype": "text/x-python",
   "name": "python",
   "nbconvert_exporter": "python",
   "pygments_lexer": "ipython3",
   "version": "3.9.12"
  }
 },
 "nbformat": 4,
 "nbformat_minor": 5
}
